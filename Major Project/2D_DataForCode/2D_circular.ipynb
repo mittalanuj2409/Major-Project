{
  "nbformat": 4,
  "nbformat_minor": 0,
  "metadata": {
    "colab": {
      "name": "Untitled1.ipynb",
      "provenance": []
    },
    "kernelspec": {
      "name": "python3",
      "display_name": "Python 3"
    }
  },
  "cells": [
    {
      "cell_type": "code",
      "metadata": {
        "colab": {
          "base_uri": "https://localhost:8080/"
        },
        "id": "VXb7a0SIidUc",
        "outputId": "73045602-b2bb-40ff-c692-c560a92e798a"
      },
      "source": [
        "# check scikit-learn version\r\n",
        "import sklearn\r\n",
        "import numpy as np\r\n",
        "from keras.models import Sequential\r\n",
        "from keras.layers import Dense\r\n",
        "print(sklearn.__version__)\r\n",
        "print(np.__version__)"
      ],
      "execution_count": 2,
      "outputs": [
        {
          "output_type": "stream",
          "text": [
            "0.22.2.post1\n",
            "1.19.5\n"
          ],
          "name": "stdout"
        }
      ]
    },
    {
      "cell_type": "code",
      "metadata": {
        "id": "RUY5XUzbYG5G"
      },
      "source": [
        "import csv\r\n",
        "\r\n",
        "# temp_data_reader = csv.DictReader(open('TEMP_DIST.csv', 'r'))\r\n",
        "# result_reader = csv.DictReader(open('32Sample_mishra.csv', 'r'))\r\n",
        "data = np.loadtxt(open('2D_Surface_data.csv', 'r'), delimiter=',', skiprows=1)\r\n",
        "results = np.loadtxt(open('2D_Surface_result.csv', 'r'), delimiter=',', skiprows=1)"
      ],
      "execution_count": 17,
      "outputs": []
    },
    {
      "cell_type": "code",
      "metadata": {
        "id": "M6hPmaxcaIHh"
      },
      "source": [
        "data = data[:, 400:735:2]"
      ],
      "execution_count": 18,
      "outputs": []
    },
    {
      "cell_type": "code",
      "metadata": {
        "colab": {
          "base_uri": "https://localhost:8080/"
        },
        "id": "BKlVwS-6b7K1",
        "outputId": "703a0b40-3002-4f57-87ea-ed62a39896f4"
      },
      "source": [
        "print(data.shape, results.shape)"
      ],
      "execution_count": 20,
      "outputs": [
        {
          "output_type": "stream",
          "text": [
            "(141, 168) (141, 2)\n"
          ],
          "name": "stdout"
        }
      ]
    },
    {
      "cell_type": "code",
      "metadata": {
        "id": "DYSt7yQwcFy9"
      },
      "source": [
        "####Regression Models\r\n",
        "from sklearn.linear_model import LinearRegression\r\n",
        "from sklearn.neighbors import KNeighborsRegressor\r\n",
        "from sklearn.tree import DecisionTreeRegressor\r\n",
        "from sklearn.datasets import make_regression\r\n",
        "from sklearn.svm import LinearSVR\r\n",
        "from sklearn.multioutput import MultiOutputRegressor\r\n",
        "\r\n",
        "model1 = LinearRegression()\r\n",
        "# model1.fit(data, results)\r\n",
        "\r\n",
        "model2 = KNeighborsRegressor()\r\n",
        "# model2.fit(data, results)\r\n",
        "\r\n",
        "model3 = DecisionTreeRegressor()\r\n",
        "# model3.fit(data, results)\r\n",
        "\r\n",
        "model4 = LinearSVR()\r\n",
        "wrapper = MultiOutputRegressor(model4)\r\n",
        "\r\n",
        "#### ANN\r\n",
        "model5 = Sequential()\r\n",
        "model5.add(Dense(20, input_dim=301, kernel_initializer='he_uniform', activation='relu'))\r\n",
        "model5.add(Dense(2))\r\n",
        "model5.compile(loss='mae', optimizer='adam')"
      ],
      "execution_count": 31,
      "outputs": []
    },
    {
      "cell_type": "code",
      "metadata": {
        "id": "L48AI6b9eWhk"
      },
      "source": [
        "from sklearn.model_selection import cross_val_score\r\n",
        "from sklearn.model_selection import RepeatedKFold"
      ],
      "execution_count": 32,
      "outputs": []
    },
    {
      "cell_type": "code",
      "metadata": {
        "id": "yYmjifxFexD0"
      },
      "source": [
        "# evaluate multioutput regression model with k-fold cross-validation\r\n",
        "from numpy import absolute\r\n",
        "from numpy import mean\r\n",
        "from numpy import std\r\n",
        "\r\n",
        "cv = RepeatedKFold(n_splits=10, n_repeats=5, random_state=1)\r\n",
        "\r\n",
        "n_scores1 = cross_val_score(model1, data, results, scoring='neg_mean_absolute_error', cv=cv, n_jobs=-1)\r\n",
        "n_scores1 = absolute(n_scores1)\r\n",
        "\r\n",
        "n_scores2 = cross_val_score(model2, data, results, scoring='neg_mean_absolute_error', cv=cv, n_jobs=-1)\r\n",
        "n_scores2 = absolute(n_scores2)\r\n",
        "\r\n",
        "n_scores3 = cross_val_score(model3, data, results, scoring='neg_mean_absolute_error', cv=cv, n_jobs=-1)\r\n",
        "n_scores3 = absolute(n_scores3)\r\n",
        "\r\n",
        "n_scores4 = cross_val_score(wrapper, data, results, scoring='neg_mean_absolute_error', cv=cv, n_jobs=-1)\r\n",
        "n_scores4 = absolute(n_scores4)"
      ],
      "execution_count": 37,
      "outputs": []
    },
    {
      "cell_type": "code",
      "metadata": {
        "colab": {
          "base_uri": "https://localhost:8080/"
        },
        "id": "Mt4eHoW3fS8Y",
        "outputId": "efa19317-512b-4e0e-b444-c8ca49d31e7d"
      },
      "source": [
        "print('MAE: %.3f (%.3f)' % (mean(n_scores1), std(n_scores1)))\r\n",
        "print('MAE: %.3f (%.3f)' % (mean(n_scores2), std(n_scores2)))\r\n",
        "print('MAE: %.3f (%.3f)' % (mean(n_scores3), std(n_scores3)))\r\n",
        "print('MAE: %.3f (%.3f)' % (mean(n_scores4), std(n_scores4)))"
      ],
      "execution_count": 38,
      "outputs": [
        {
          "output_type": "stream",
          "text": [
            "MAE: 1.609 (3.177)\n",
            "MAE: 0.248 (0.046)\n",
            "MAE: 0.251 (0.055)\n",
            "MAE: 0.884 (0.164)\n"
          ],
          "name": "stdout"
        }
      ]
    },
    {
      "cell_type": "code",
      "metadata": {
        "id": "dr03k45pfl8K"
      },
      "source": [
        ""
      ],
      "execution_count": null,
      "outputs": []
    }
  ]
}