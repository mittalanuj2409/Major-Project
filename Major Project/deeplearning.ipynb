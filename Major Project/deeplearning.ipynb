{
  "nbformat": 4,
  "nbformat_minor": 0,
  "metadata": {
    "colab": {
      "name": "Untitled12.ipynb",
      "provenance": []
    },
    "kernelspec": {
      "name": "python3",
      "display_name": "Python 3"
    }
  },
  "cells": [
    {
      "cell_type": "code",
      "metadata": {
        "id": "kQYI5G8L67E0"
      },
      "source": [
        "from numpy import mean\r\n",
        "from numpy import std\r\n",
        "from sklearn.datasets import make_regression\r\n",
        "from sklearn.model_selection import RepeatedKFold\r\n",
        "from keras.models import Sequential\r\n",
        "from keras.layers import Dense\r\n",
        "\r\n",
        "import csv\r\n"
      ],
      "execution_count": 54,
      "outputs": []
    },
    {
      "cell_type": "code",
      "metadata": {
        "id": "GdSWobgB7ICx"
      },
      "source": [
        "temp_data = np.loadtxt(open('TEMP_DIST.csv', 'r'), delimiter=',', skiprows=1)\r\n",
        "results = np.loadtxt(open('32Sample_mishra.csv', 'r'), delimiter=',', skiprows=1)\r\n"
      ],
      "execution_count": 55,
      "outputs": []
    },
    {
      "cell_type": "code",
      "metadata": {
        "colab": {
          "base_uri": "https://localhost:8080/"
        },
        "id": "nnXChfCfH4tY",
        "outputId": "3825091c-acb5-438c-f6d1-777f6e46202a"
      },
      "source": [
        "print(results)"
      ],
      "execution_count": 86,
      "outputs": [
        {
          "output_type": "stream",
          "text": [
            "[[0.5  0.25]\n",
            " [0.5  0.75]\n",
            " [0.5  1.25]\n",
            " [0.5  1.75]\n",
            " [0.5  2.25]\n",
            " [0.5  2.75]\n",
            " [0.5  3.25]\n",
            " [0.5  3.75]\n",
            " [0.5  4.5 ]\n",
            " [0.5  4.25]\n",
            " [1.   0.75]\n",
            " [1.   1.25]\n",
            " [1.   1.75]\n",
            " [1.   2.25]\n",
            " [1.   2.75]\n",
            " [1.   3.25]\n",
            " [1.   3.75]\n",
            " [1.   4.25]\n",
            " [2.5  1.75]\n",
            " [2.5  2.25]\n",
            " [2.5  2.75]\n",
            " [2.5  3.25]\n",
            " [2.   1.25]\n",
            " [2.   1.75]\n",
            " [2.   2.25]\n",
            " [2.   2.75]\n",
            " [2.   3.25]\n",
            " [2.   3.75]\n",
            " [3.   1.75]\n",
            " [3.   2.25]\n",
            " [3.   2.75]\n",
            " [3.   3.25]]\n"
          ],
          "name": "stdout"
        }
      ]
    },
    {
      "cell_type": "code",
      "metadata": {
        "id": "tEicwG7BH8RV"
      },
      "source": [
        "def get_model(n_inputs, n_outputs):\r\n",
        "\tmodel = Sequential()\r\n",
        "\tmodel.add(Dense(312, input_dim=n_inputs, kernel_initializer='he_uniform', activation='relu'))\r\n",
        "\tmodel.add(Dense(n_outputs))\r\n",
        "\tmodel.compile(loss='mae', optimizer='adam')\r\n",
        "\treturn model\r\n",
        "\r\n"
      ],
      "execution_count": 123,
      "outputs": []
    },
    {
      "cell_type": "code",
      "metadata": {
        "colab": {
          "base_uri": "https://localhost:8080/"
        },
        "id": "tbb-fpvwMf-o",
        "outputId": "9ea62f11-e67e-4dcf-ff87-5acf46dc122c"
      },
      "source": [
        "n_inputs, n_outputs = temp_data.shape[1], results.shape[1]\r\n",
        "# get model\r\n",
        "model = get_model(n_inputs, n_outputs)\r\n",
        "# fit the model on all data\r\n",
        "model.fit(temp_data, results, verbose=0, epochs=100)"
      ],
      "execution_count": 124,
      "outputs": [
        {
          "output_type": "execute_result",
          "data": {
            "text/plain": [
              "<tensorflow.python.keras.callbacks.History at 0x7faab3a5fb38>"
            ]
          },
          "metadata": {
            "tags": []
          },
          "execution_count": 124
        }
      ]
    },
    {
      "cell_type": "code",
      "metadata": {
        "colab": {
          "base_uri": "https://localhost:8080/"
        },
        "id": "B58UrRzZJ6zO",
        "outputId": "dad654d6-29e7-4588-edae-0c29d782a779"
      },
      "source": [
        "#model = get_model(n_inputs, n_outputs)\r\n",
        "# fit the model on all data\r\n",
        "from numpy import asarray\r\n",
        "test = [31.10041631,31.10040031,31.10039647,31.10040479,31.10040085,31.10040331,31.10041218,31.10040615,31.10040883,31.10042022,31.10041402,31.10041729,31.10043004,31.10042445,31.10042854,31.1004423,31.10043761,31.10044261,31.10045732,31.10045355,31.10045948,31.10047511,31.10047227,31.10047912,31.10049566,31.10049374,31.10050152,31.10051898,31.10051797,31.10052666,31.10054505,31.10054495,31.10055455,31.10057385,31.10057466,31.10058517,31.10060538,31.1006071,31.10061851,31.10063962,31.10064224,31.10065456,31.10067656,31.10068007,31.10069328,31.10071617,31.10072056,31.10073463,31.10075839,31.10076365,31.10077858,31.10080319,31.10080929,31.10082506,31.1008505,31.10085742,31.100874,31.10090024,31.10090795,31.10092531,31.10095232,31.10096078,31.10097889,31.10100663,31.10101581,31.10103462,31.10106305,31.10107291,31.10109237,31.10112144,31.10113191,31.10115198,31.10118162,31.10119266,31.10121326,31.10124343,31.10125496,31.10127603,31.10130664,31.1013186,31.10134006,31.10137104,31.10138334,31.10140512,31.10143638,31.10144893,31.10147093,31.10150239,31.1015151,31.10153722,31.10156877,31.10158154,31.10160369,31.10163522,31.10164794,31.10167,31.10170141,31.10171397,31.10173583,31.101767,31.10177928,31.10180082,31.10183162,31.1018435,31.10186459,31.10189491,31.10190626,31.10192678,31.10195649,31.10196718,31.10198701,31.10201598,31.10202588,31.10204488,31.10207298,31.10208197,31.10210002,31.10212712,31.10213507,31.10215204,31.10217803,31.10218482,31.10220059,31.10222533,31.10223085,31.10224531,31.1022687,31.10227283,31.10228586,31.1023078,31.10231044,31.10232195,31.10234233,31.10234339,31.10235329,31.10237204,31.10237143,31.10237964,31.10239667,31.10239433,31.10240079,31.10241604,31.10241191,31.10241656,31.10242999,31.10242402,31.10242683,31.10243841,31.10243058,31.10243152,31.10244122,31.10243152,31.10243058,31.10243841,31.10242683,31.10242402,31.10242999,31.10241656,31.10241191,31.10241604,31.10240079,31.10239433,31.10239667,31.10237964,31.10237143,31.10237204,31.10235329,31.10234339,31.10234233,31.10232195,31.10231044,31.1023078,31.10228586,31.10227283,31.1022687,31.10224531,31.10223085,31.10222533,31.10220059,31.10218482,31.10217803,31.10215204,31.10213507,31.10212712,31.10210002,31.10208197,31.10207298,31.10204488,31.10202588,31.10201598,31.10198701,31.10196718,31.10195649,31.10192678,31.10190626,31.10189491,31.10186459,31.1018435,31.10183162,31.10180082,31.10177928,31.101767,31.10173583,31.10171397,31.10170141,31.10167,31.10164794,31.10163522,31.10160369,31.10158154,31.10156877,31.10153722,31.1015151,31.10150239,31.10147093,31.10144893,31.10143638,31.10140512,31.10138334,31.10137104,31.10134006,31.1013186,31.10130664,31.10127603,31.10125496,31.10124343,31.10121326,31.10119266,31.10118162,31.10115198,31.10113191,31.10112144,31.10109237,31.10107291,31.10106305,31.10103462,31.10101582,31.10100663,31.10097889,31.10096078,31.10095232,31.10092531,31.10090795,31.10090024,31.100874,31.10085742,31.1008505,31.10082506,31.10080929,31.10080319,31.10077858,31.10076365,31.10075839,31.10073463,31.10072056,31.10071617,31.10069328,31.10068008,31.10067656,31.10065456,31.10064224,31.10063962,31.10061851,31.10060709,31.10060537,31.10058516,31.10057465,31.10057383,31.10055453,31.10054493,31.10054503,31.10052664,31.10051795,31.10051896,31.10050148,31.1004937,31.10049562,31.10047906,31.1004722,31.10047502,31.1004594,31.10045349,31.10045729,31.10044258,31.10043759,31.10044233,31.10042854,31.10042441,31.10042994,31.1004171,31.10041359,31.10041942,31.10040759,31.10040614,31.10041505,31.10040417,31.10040149,31.10040699,31.10039641,31.10039915,31.10041522]\r\n",
        "newX = asarray([test])\r\n",
        "model.predict(newX)"
      ],
      "execution_count": 125,
      "outputs": [
        {
          "output_type": "stream",
          "text": [
            "WARNING:tensorflow:11 out of the last 11 calls to <function Model.make_predict_function.<locals>.predict_function at 0x7faab5c2bc80> triggered tf.function retracing. Tracing is expensive and the excessive number of tracings could be due to (1) creating @tf.function repeatedly in a loop, (2) passing tensors with different shapes, (3) passing Python objects instead of tensors. For (1), please define your @tf.function outside of the loop. For (2), @tf.function has experimental_relax_shapes=True option that relaxes argument shapes that can avoid unnecessary retracing. For (3), please refer to https://www.tensorflow.org/guide/function#controlling_retracing and https://www.tensorflow.org/api_docs/python/tf/function for  more details.\n"
          ],
          "name": "stdout"
        },
        {
          "output_type": "execute_result",
          "data": {
            "text/plain": [
              "array([[ 6.058058, -8.003289]], dtype=float32)"
            ]
          },
          "metadata": {
            "tags": []
          },
          "execution_count": 125
        }
      ]
    },
    {
      "cell_type": "code",
      "metadata": {
        "id": "l-MvrNOdKHz8"
      },
      "source": [
        ""
      ],
      "execution_count": null,
      "outputs": []
    }
  ]
}