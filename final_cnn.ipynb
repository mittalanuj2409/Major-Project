{
  "nbformat": 4,
  "nbformat_minor": 0,
  "metadata": {
    "colab": {
      "name": "final_cnn.ipynb",
      "provenance": [],
      "mount_file_id": "1HBNJmsir6PYzwJtR5dDNhHR8iw31SOPl",
      "authorship_tag": "ABX9TyNlrZZmDWiVglUbC9RwEWKe",
      "include_colab_link": true
    },
    "kernelspec": {
      "name": "python3",
      "display_name": "Python 3"
    },
    "language_info": {
      "name": "python"
    }
  },
  "cells": [
    {
      "cell_type": "markdown",
      "metadata": {
        "id": "view-in-github",
        "colab_type": "text"
      },
      "source": [
        "<a href=\"https://colab.research.google.com/github/mittalanuj2409/Major-Project/blob/main/final_cnn.ipynb\" target=\"_parent\"><img src=\"https://colab.research.google.com/assets/colab-badge.svg\" alt=\"Open In Colab\"/></a>"
      ]
    },
    {
      "cell_type": "code",
      "metadata": {
        "id": "BXudbrBK780_"
      },
      "source": [
        "import numpy as np\n",
        "import pandas as pd \n",
        "import os\n",
        "import matplotlib.pyplot as plt\n",
        "import cv2\n",
        "import matplotlib.patches as patches\n",
        "import tensorflow as tf\n",
        "from keras.layers import Flatten, Dense, Conv2D, MaxPooling2D, Dropout\n",
        "from keras.models import Sequential\n",
        "from numpy import asarray"
      ],
      "execution_count": 1,
      "outputs": []
    },
    {
      "cell_type": "code",
      "metadata": {
        "id": "Sz9NYexIBozz"
      },
      "source": [
        "images=os.path.join(\"/content/drive/MyDrive/final\")\n",
        "Y = pd.read_csv(os.path.join(\"/content/drive/MyDrive/data3D.csv\"))\n"
      ],
      "execution_count": 2,
      "outputs": []
    },
    {
      "cell_type": "code",
      "metadata": {
        "id": "bvLI8qmmFLGF"
      },
      "source": [
        "a = os.listdir(images)"
      ],
      "execution_count": 3,
      "outputs": []
    },
    {
      "cell_type": "code",
      "metadata": {
        "id": "DOUue9PHGozp"
      },
      "source": [
        "arr = np.array(a)"
      ],
      "execution_count": 4,
      "outputs": []
    },
    {
      "cell_type": "code",
      "metadata": {
        "id": "B3zCoALAGubG"
      },
      "source": [
        "#appending the pics to the training data list\n",
        "path = images\n",
        "training_data = []\n",
        "for img in os.listdir(path):\n",
        "    pic = cv2.imread(os.path.join(path,img))\n",
        "    pic = cv2.cvtColor(pic,cv2.COLOR_BGR2RGB)\n",
        "    pic = cv2.resize(pic,(80,80))\n",
        "    training_data.append([pic])"
      ],
      "execution_count": 5,
      "outputs": []
    },
    {
      "cell_type": "code",
      "metadata": {
        "id": "cgBw7OsbLelZ"
      },
      "source": [
        "np.save(os.path.join(path,'features'),np.array(training_data))"
      ],
      "execution_count": 6,
      "outputs": []
    },
    {
      "cell_type": "code",
      "metadata": {
        "id": "xamt4U1BMmJJ"
      },
      "source": [
        "saved = np.load(os.path.join(path,'features.npy'))"
      ],
      "execution_count": 7,
      "outputs": []
    },
    {
      "cell_type": "code",
      "metadata": {
        "colab": {
          "base_uri": "https://localhost:8080/",
          "height": 285
        },
        "id": "Qe2JeuJkMr57",
        "outputId": "1f51a276-c40f-4042-c768-00c0e9807f41"
      },
      "source": [
        "plt.imshow(saved[0].reshape(80,80,3))\n",
        "plt.imshow(np.array(training_data[0]).reshape(80,80,3))"
      ],
      "execution_count": 8,
      "outputs": [
        {
          "output_type": "execute_result",
          "data": {
            "text/plain": [
              "<matplotlib.image.AxesImage at 0x7f18e3c91250>"
            ]
          },
          "metadata": {
            "tags": []
          },
          "execution_count": 8
        },
        {
          "output_type": "display_data",
          "data": {
            "image/png": "[encoded data removed]",
            "text/plain": [
              "<Figure size 432x288 with 1 Axes>"
            ]
          },
          "metadata": {
            "tags": [],
            "needs_background": "light"
          }
        }
      ]
    },
    {
      "cell_type": "code",
      "metadata": {
        "id": "XQEoIyPqT7VN"
      },
      "source": [
        "Y = pd.read_csv(os.path.join(\"/content/drive/MyDrive/data3D.csv\"))"
      ],
      "execution_count": 118,
      "outputs": []
    },
    {
      "cell_type": "code",
      "metadata": {
        "colab": {
          "base_uri": "https://localhost:8080/"
        },
        "id": "k-S-bxl3T9xZ",
        "outputId": "dd931036-d50e-4330-8a2c-e56437134f38"
      },
      "source": [
        "Y.shape"
      ],
      "execution_count": 119,
      "outputs": [
        {
          "output_type": "execute_result",
          "data": {
            "text/plain": [
              "(3057, 4)"
            ]
          },
          "metadata": {
            "tags": []
          },
          "execution_count": 119
        }
      ]
    },
    {
      "cell_type": "code",
      "metadata": {
        "colab": {
          "base_uri": "https://localhost:8080/"
        },
        "id": "g5CgoAz6Vfwb",
        "outputId": "d3b8a912-3010-48b2-a24f-2f18f71c005e"
      },
      "source": [
        "train_X = saved.reshape(-1, 80,80, 3)\n",
        "#test_X = Y.reshape(-1, 28,28, 1)\n",
        "train_X.shape, Y.shape"
      ],
      "execution_count": 120,
      "outputs": [
        {
          "output_type": "execute_result",
          "data": {
            "text/plain": [
              "((3057, 80, 80, 3), (3057, 4))"
            ]
          },
          "metadata": {
            "tags": []
          },
          "execution_count": 120
        }
      ]
    },
    {
      "cell_type": "code",
      "metadata": {
        "id": "JWZm3fP9MyEK"
      },
      "source": [
        "from sklearn.model_selection import train_test_split\n",
        "train_X,test_X,train_y,test_y = train_test_split(train_X,Y, test_size=0.2, random_state=13)"
      ],
      "execution_count": 121,
      "outputs": []
    },
    {
      "cell_type": "code",
      "metadata": {
        "colab": {
          "base_uri": "https://localhost:8080/"
        },
        "id": "M0dE3Ji-RAJU",
        "outputId": "8e3b7e62-870b-485c-8708-d51ec15fb4bd"
      },
      "source": [
        "train_X.shape,test_X.shape,train_y.shape,test_y.shape"
      ],
      "execution_count": 122,
      "outputs": [
        {
          "output_type": "execute_result",
          "data": {
            "text/plain": [
              "((2445, 80, 80, 3), (612, 80, 80, 3), (2445, 4), (612, 4))"
            ]
          },
          "metadata": {
            "tags": []
          },
          "execution_count": 122
        }
      ]
    },
    {
      "cell_type": "code",
      "metadata": {
        "id": "FIRMlS7B2xBN"
      },
      "source": [
        ""
      ],
      "execution_count": 122,
      "outputs": []
    },
    {
      "cell_type": "code",
      "metadata": {
        "id": "mQ3Q0przdzQN"
      },
      "source": [
        "from keras.layers import Dense, Conv2D, Flatten"
      ],
      "execution_count": 174,
      "outputs": []
    },
    {
      "cell_type": "code",
      "metadata": {
        "colab": {
          "base_uri": "https://localhost:8080/"
        },
        "id": "_m6-nRKNYVeR",
        "outputId": "ac323882-878c-4083-9408-ae777a0f4d51"
      },
      "source": [
        "model = Sequential()\n",
        "model.add(Conv2D(16, 2, activation=\"relu\", input_shape=(80,80, 3), kernel_initializer='he_uniform'))\n",
        "model.add(Flatten())\n",
        "model.add(Dense(32, activation=\"relu\"))\n",
        "model.add(Dense(4))\n",
        "model.compile(loss=\"mse\", optimizer=\"adam\")\n",
        " \n",
        "model.summary()\n"
      ],
      "execution_count": 198,
      "outputs": [
        {
          "output_type": "stream",
          "text": [
            "Model: \"sequential_32\"\n",
            "_________________________________________________________________\n",
            "Layer (type)                 Output Shape              Param #   \n",
            "=================================================================\n",
            "conv2d_25 (Conv2D)           (None, 79, 79, 16)        208       \n",
            "_________________________________________________________________\n",
            "flatten_28 (Flatten)         (None, 99856)             0         \n",
            "_________________________________________________________________\n",
            "dense_57 (Dense)             (None, 32)                3195424   \n",
            "_________________________________________________________________\n",
            "dense_58 (Dense)             (None, 4)                 132       \n",
            "=================================================================\n",
            "Total params: 3,195,764\n",
            "Trainable params: 3,195,764\n",
            "Non-trainable params: 0\n",
            "_________________________________________________________________\n"
          ],
          "name": "stdout"
        }
      ]
    },
    {
      "cell_type": "code",
      "metadata": {
        "colab": {
          "base_uri": "https://localhost:8080/"
        },
        "id": "DI7AwP4Qd-UX",
        "outputId": "da4b7dff-b362-44aa-b372-03534c15ea45"
      },
      "source": [
        "model.fit(train_X, train_y, batch_size=12,epochs=50, verbose=0)"
      ],
      "execution_count": 199,
      "outputs": [
        {
          "output_type": "execute_result",
          "data": {
            "text/plain": [
              "<tensorflow.python.keras.callbacks.History at 0x7f187ac42c90>"
            ]
          },
          "metadata": {
            "tags": []
          },
          "execution_count": 199
        }
      ]
    },
    {
      "cell_type": "code",
      "metadata": {
        "id": "WxT7Ymz6vL9d"
      },
      "source": [
        " ypred = model.predict(test_X)"
      ],
      "execution_count": null,
      "outputs": []
    },
    {
      "cell_type": "code",
      "metadata": {
        "id": "AAVqZNvFwfK0"
      },
      "source": [
        "ypred"
      ],
      "execution_count": null,
      "outputs": []
    },
    {
      "cell_type": "code",
      "metadata": {
        "colab": {
          "base_uri": "https://localhost:8080/"
        },
        "id": "pHxQvpAMvglD",
        "outputId": "9f528bfb-2be7-4bf2-f0ec-de4a17e03898"
      },
      "source": [
        "mean_squared_error(test_y, ypred)"
      ],
      "execution_count": 202,
      "outputs": [
        {
          "output_type": "execute_result",
          "data": {
            "text/plain": [
              "3.5066834437431664"
            ]
          },
          "metadata": {
            "tags": []
          },
          "execution_count": 202
        }
      ]
    },
    {
      "cell_type": "code",
      "metadata": {
        "id": "jBaIq9iRzX4b"
      },
      "source": [
        ""
      ],
      "execution_count": 202,
      "outputs": []
    }
  ]
}