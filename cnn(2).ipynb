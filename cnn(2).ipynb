{
  "nbformat": 4,
  "nbformat_minor": 0,
  "metadata": {
    "colab": {
      "name": "cnn.ipynb",
      "provenance": [],
      "collapsed_sections": []
    },
    "kernelspec": {
      "name": "python3",
      "display_name": "Python 3"
    },
    "language_info": {
      "name": "python"
    }
  },
  "cells": [
    {
      "cell_type": "code",
      "metadata": {
        "id": "_23Pm9_15LGR"
      },
      "source": [
        "import numpy as np \n",
        "import pandas as pd \n",
        "import os\n",
        "import matplotlib.pyplot as plt\n",
        "import cv2\n",
        "import matplotlib.patches as patches\n",
        "import tensorflow as tf\n",
        "from keras.layers import Flatten, Dense, Conv2D, MaxPooling2D, Dropout\n",
        "from keras.models import Sequential"
      ],
      "execution_count": 20,
      "outputs": []
    },
    {
      "cell_type": "code",
      "metadata": {
        "id": "RSQUzK3Y5tVX"
      },
      "source": [
        "images = \"./drive/MyDrive/Major Project/Final\"\n",
        "y = pd.read_csv(\"./drive/MyDrive/Major Project/Data3D.csv\")"
      ],
      "execution_count": 21,
      "outputs": []
    },
    {
      "cell_type": "code",
      "metadata": {
        "id": "Aysc3Qat7dyI"
      },
      "source": [
        "a = os.listdir(images)\n",
        "a.sort()"
      ],
      "execution_count": 22,
      "outputs": []
    },
    {
      "cell_type": "code",
      "metadata": {
        "id": "ZF8Jy3hNPAth"
      },
      "source": [
        "img_size = 64"
      ],
      "execution_count": 23,
      "outputs": []
    },
    {
      "cell_type": "code",
      "metadata": {
        "id": "MCYR52wqKCHL"
      },
      "source": [
        "path = images\n",
        "data1 = []\n",
        "data2 = []\n",
        "for img in a[:3048]:\n",
        "    pic = cv2.imread(os.path.join(path,img))\n",
        "    pic2 = cv2.cvtColor(pic,cv2.COLOR_BGR2RGB)\n",
        "    pic1 = cv2.cvtColor(pic,cv2.COLOR_BGR2GRAY)\n",
        "    # pic1 = cv2.imread(os.path.join(path,img),cv2.IMREAD_GRAYSCALE)\n",
        "    pic1 = cv2.resize(pic1,(img_size,img_size))\n",
        "    pic2 = cv2.resize(pic2,(img_size,img_size))\n",
        "    data1.append([pic1])\n",
        "    data2.append([pic2])"
      ],
      "execution_count": 24,
      "outputs": []
    },
    {
      "cell_type": "code",
      "metadata": {
        "colab": {
          "base_uri": "https://localhost:8080/"
        },
        "id": "AKBXteKqp7vT",
        "outputId": "6f43396c-0936-4efa-9cf3-5680d78fa52e"
      },
      "source": [
        "np.array(data1).shape"
      ],
      "execution_count": 25,
      "outputs": [
        {
          "output_type": "execute_result",
          "data": {
            "text/plain": [
              "(3048, 1, 64, 64)"
            ]
          },
          "metadata": {
            "tags": []
          },
          "execution_count": 25
        }
      ]
    },
    {
      "cell_type": "code",
      "metadata": {
        "id": "_Bq3AI3CO19O",
        "colab": {
          "base_uri": "https://localhost:8080/"
        },
        "outputId": "5c67e529-b844-4277-d7c7-20be27c62396"
      },
      "source": [
        "datagray = np.array(data1)\n",
        "datagray = np.squeeze(datagray)\n",
        "datagray.shape"
      ],
      "execution_count": 26,
      "outputs": [
        {
          "output_type": "execute_result",
          "data": {
            "text/plain": [
              "(3048, 64, 64)"
            ]
          },
          "metadata": {
            "tags": []
          },
          "execution_count": 26
        }
      ]
    },
    {
      "cell_type": "code",
      "metadata": {
        "colab": {
          "base_uri": "https://localhost:8080/"
        },
        "id": "Kz2j4resojOx",
        "outputId": "31a40f29-295c-4fd8-eade-de215b5a0ca4"
      },
      "source": [
        "datargb = np.array(data2)\n",
        "datargb = np.squeeze(datargb)\n",
        "datargb.shape"
      ],
      "execution_count": 27,
      "outputs": [
        {
          "output_type": "execute_result",
          "data": {
            "text/plain": [
              "(3048, 64, 64, 3)"
            ]
          },
          "metadata": {
            "tags": []
          },
          "execution_count": 27
        }
      ]
    },
    {
      "cell_type": "code",
      "metadata": {
        "colab": {
          "base_uri": "https://localhost:8080/",
          "height": 286
        },
        "id": "5jBZoc7JjLNF",
        "outputId": "f42b904e-dc21-464d-8993-78eefba64ae8"
      },
      "source": [
        "plt.imshow(datargb[5].reshape(img_size, img_size,3))"
      ],
      "execution_count": 28,
      "outputs": [
        {
          "output_type": "execute_result",
          "data": {
            "text/plain": [
              "<matplotlib.image.AxesImage at 0x7f4353d2f810>"
            ]
          },
          "metadata": {
            "tags": []
          },
          "execution_count": 28
        },
        {
          "output_type": "display_data",
          "data": {
            "image/png": "[encoded data removed]",
            "text/plain": [
              "<Figure size 432x288 with 1 Axes>"
            ]
          },
          "metadata": {
            "tags": [],
            "needs_background": "light"
          }
        }
      ]
    },
    {
      "cell_type": "code",
      "metadata": {
        "colab": {
          "base_uri": "https://localhost:8080/",
          "height": 286
        },
        "id": "hf0PH8NqKTXf",
        "outputId": "7222bef8-7695-4b1d-9b14-d3ea711961fc"
      },
      "source": [
        "plt.imshow(datagray[5], cmap='gray')"
      ],
      "execution_count": 29,
      "outputs": [
        {
          "output_type": "execute_result",
          "data": {
            "text/plain": [
              "<matplotlib.image.AxesImage at 0x7f4353ce7410>"
            ]
          },
          "metadata": {
            "tags": []
          },
          "execution_count": 29
        },
        {
          "output_type": "display_data",
          "data": {
            "image/png": "[encoded data removed]",
            "text/plain": [
              "<Figure size 432x288 with 1 Axes>"
            ]
          },
          "metadata": {
            "tags": [],
            "needs_background": "light"
          }
        }
      ]
    },
    {
      "cell_type": "code",
      "metadata": {
        "id": "x26GJN-VOfFu"
      },
      "source": [
        "datagray = datagray.reshape(-1, img_size, img_size, 1)\n",
        "datargb = datargb.reshape(-1, img_size, img_size, 3)"
      ],
      "execution_count": 30,
      "outputs": []
    },
    {
      "cell_type": "code",
      "metadata": {
        "id": "5197BAG8bN1U"
      },
      "source": [
        "y.drop('label', inplace=True, axis=1)"
      ],
      "execution_count": 31,
      "outputs": []
    },
    {
      "cell_type": "code",
      "metadata": {
        "colab": {
          "base_uri": "https://localhost:8080/"
        },
        "id": "ZnDlvRFPQMzv",
        "outputId": "1ebd6bc6-d3e0-4c76-aaee-e0c438d67bec"
      },
      "source": [
        "datagray.shape, datargb.shape, y.shape"
      ],
      "execution_count": 32,
      "outputs": [
        {
          "output_type": "execute_result",
          "data": {
            "text/plain": [
              "((3048, 64, 64, 1), (3048, 64, 64, 3), (3048, 4))"
            ]
          },
          "metadata": {
            "tags": []
          },
          "execution_count": 32
        }
      ]
    },
    {
      "cell_type": "code",
      "metadata": {
        "id": "dOFbYv60QRsF"
      },
      "source": [
        "from sklearn.model_selection import train_test_split\n",
        "train_Xgray,test_Xgray,train_ygray,test_ygray = train_test_split(datagray,y, test_size=0.2, random_state=13)\n",
        "train_Xrgb,test_Xrgb,train_yrgb,test_yrgb = train_test_split(datargb,y, test_size=0.2, random_state=13)"
      ],
      "execution_count": 34,
      "outputs": []
    },
    {
      "cell_type": "code",
      "metadata": {
        "id": "pyH9ovkRaiRR"
      },
      "source": [
        "from keras.layers import Dense, Conv2D, Flatten"
      ],
      "execution_count": 35,
      "outputs": []
    },
    {
      "cell_type": "code",
      "metadata": {
        "id": "rtGkFutUam4U",
        "colab": {
          "base_uri": "https://localhost:8080/"
        },
        "outputId": "ee84622a-97c8-4936-b999-b4af27ae9f0b"
      },
      "source": [
        "# For grayscale\n",
        "\n",
        "model1 = Sequential()\n",
        "model1.add(Conv2D(64, 3, activation=\"relu\", input_shape=(img_size,img_size, 1), kernel_initializer='he_uniform'))\n",
        "model1.add(Flatten())\n",
        "model1.add(Dense(16, activation=\"relu\"))\n",
        "model1.add(Dense(4))\n",
        "model1.compile(loss=\"mse\", optimizer=\"adam\", metrics=[tf.keras.metrics.RootMeanSquaredError()])\n",
        "model1.summary()"
      ],
      "execution_count": 36,
      "outputs": [
        {
          "output_type": "stream",
          "text": [
            "Model: \"sequential\"\n",
            "_________________________________________________________________\n",
            "Layer (type)                 Output Shape              Param #   \n",
            "=================================================================\n",
            "conv2d (Conv2D)              (None, 62, 62, 64)        640       \n",
            "_________________________________________________________________\n",
            "flatten (Flatten)            (None, 246016)            0         \n",
            "_________________________________________________________________\n",
            "dense (Dense)                (None, 16)                3936272   \n",
            "_________________________________________________________________\n",
            "dense_1 (Dense)              (None, 4)                 68        \n",
            "=================================================================\n",
            "Total params: 3,936,980\n",
            "Trainable params: 3,936,980\n",
            "Non-trainable params: 0\n",
            "_________________________________________________________________\n"
          ],
          "name": "stdout"
        }
      ]
    },
    {
      "cell_type": "code",
      "metadata": {
        "colab": {
          "base_uri": "https://localhost:8080/"
        },
        "id": "ujSSYgUmaunQ",
        "outputId": "097acf4c-3926-4906-dde2-8a69884d40e2"
      },
      "source": [
        "# For rgb\n",
        "\n",
        "model2 = Sequential()\n",
        "model2.add(Conv2D(64, 3, activation=\"relu\", input_shape=(img_size,img_size, 3), kernel_initializer='he_uniform'))\n",
        "model2.add(Flatten())\n",
        "model2.add(Dense(16, activation=\"relu\"))\n",
        "model2.add(Dense(4))\n",
        "model2.compile(loss=\"mse\", optimizer=\"adam\", metrics=[tf.keras.metrics.RootMeanSquaredError()])\n",
        "model2.summary()"
      ],
      "execution_count": 38,
      "outputs": [
        {
          "output_type": "stream",
          "text": [
            "Model: \"sequential_2\"\n",
            "_________________________________________________________________\n",
            "Layer (type)                 Output Shape              Param #   \n",
            "=================================================================\n",
            "conv2d_2 (Conv2D)            (None, 62, 62, 64)        1792      \n",
            "_________________________________________________________________\n",
            "flatten_2 (Flatten)          (None, 246016)            0         \n",
            "_________________________________________________________________\n",
            "dense_4 (Dense)              (None, 16)                3936272   \n",
            "_________________________________________________________________\n",
            "dense_5 (Dense)              (None, 4)                 68        \n",
            "=================================================================\n",
            "Total params: 3,938,132\n",
            "Trainable params: 3,938,132\n",
            "Non-trainable params: 0\n",
            "_________________________________________________________________\n"
          ],
          "name": "stdout"
        }
      ]
    },
    {
      "cell_type": "code",
      "metadata": {
        "colab": {
          "base_uri": "https://localhost:8080/"
        },
        "id": "1zFnUU3oayvR",
        "outputId": "1b406f80-d6bb-4441-c754-a49d3c53d4c0"
      },
      "source": [
        "model1.fit(train_Xgray, train_ygray, batch_size=20,epochs=50, verbose=0)"
      ],
      "execution_count": 39,
      "outputs": [
        {
          "output_type": "execute_result",
          "data": {
            "text/plain": [
              "<tensorflow.python.keras.callbacks.History at 0x7f43480b3410>"
            ]
          },
          "metadata": {
            "tags": []
          },
          "execution_count": 39
        }
      ]
    },
    {
      "cell_type": "code",
      "metadata": {
        "colab": {
          "base_uri": "https://localhost:8080/"
        },
        "id": "7l4K4h5FF_nQ",
        "outputId": "710dc3d3-8846-42ba-cf47-316164aee19a"
      },
      "source": [
        "model2.fit(train_Xrgb, train_yrgb, batch_size=20,epochs=50, verbose=0)"
      ],
      "execution_count": 40,
      "outputs": [
        {
          "output_type": "execute_result",
          "data": {
            "text/plain": [
              "<tensorflow.python.keras.callbacks.History at 0x7f4347688350>"
            ]
          },
          "metadata": {
            "tags": []
          },
          "execution_count": 40
        }
      ]
    },
    {
      "cell_type": "code",
      "metadata": {
        "id": "JIacPCmubAKc"
      },
      "source": [
        "ypred1 = pd.DataFrame(model1.predict(test_Xgray), columns = ['diameter', 'x', 'y', 'z'])\n",
        "ypred2 = pd.DataFrame(model2.predict(test_Xrgb), columns = ['diameter', 'x', 'y', 'z'])"
      ],
      "execution_count": 74,
      "outputs": []
    },
    {
      "cell_type": "code",
      "metadata": {
        "id": "9D62NCUkcqlv"
      },
      "source": [
        "from sklearn.metrics import mean_squared_error, r2_score\n",
        "import math\n",
        "import statistics"
      ],
      "execution_count": 75,
      "outputs": []
    },
    {
      "cell_type": "code",
      "metadata": {
        "colab": {
          "base_uri": "https://localhost:8080/"
        },
        "id": "66Tlade9GU9y",
        "outputId": "b547bb4c-f097-492c-f5b0-8c61dbef7f41"
      },
      "source": [
        "#for Grayscale\n",
        "print('Grayscale')\n",
        "for col in y:\n",
        "  print(col)\n",
        "  print('r2_score: ', r2_score(test_ygray[col], ypred1[col]))\n",
        "  rmse = math.sqrt(mean_squared_error(test_ygray[col], ypred1[col]))\n",
        "  print('rmse: ', rmse)\n",
        "  print('rrmse: ', rmse/np.mean(ypred1[col]))\n",
        "  print(' ')"
      ],
      "execution_count": 76,
      "outputs": [
        {
          "output_type": "stream",
          "text": [
            "Grayscale\n",
            "diameter\n",
            "r2_score:  -2.3170063245760706\n",
            "rmse:  1.4310880295212427\n",
            "rrmse:  1.8362936089375765\n",
            " \n",
            "x\n",
            "r2_score:  -0.00010926456352389202\n",
            "rmse:  2.2934832637738674\n",
            "rrmse:  425.4132636621626\n",
            " \n",
            "y\n",
            "r2_score:  -0.0056173233503962194\n",
            "rmse:  2.448893563515934\n",
            "rrmse:  311.34164393361056\n",
            " \n",
            "z\n",
            "r2_score:  -2.1638699249860243\n",
            "rmse:  2.4605808284066244\n",
            "rrmse:  0.9721758144378396\n",
            " \n"
          ],
          "name": "stdout"
        }
      ]
    },
    {
      "cell_type": "code",
      "metadata": {
        "id": "A_C-b5YVcsKx",
        "colab": {
          "base_uri": "https://localhost:8080/"
        },
        "outputId": "eae7da4e-59ef-4730-c624-414b30996011"
      },
      "source": [
        "#for rgb\n",
        "print('RGB')\n",
        "for col in y:\n",
        "  print(col)\n",
        "  print('r2_score: ', r2_score(test_yrgb[col], ypred2[col]))\n",
        "  rmse = math.sqrt(mean_squared_error(test_yrgb[col], ypred2[col]))\n",
        "  print('rmse: ', rmse)\n",
        "  print('rrmse: ', rmse/np.mean(ypred2[col]))\n",
        "  print(' ')"
      ],
      "execution_count": 77,
      "outputs": [
        {
          "output_type": "stream",
          "text": [
            "RGB\n",
            "diameter\n",
            "r2_score:  -4.386935195073193\n",
            "rmse:  1.8237448341478224\n",
            "rrmse:  5.532859614250873\n",
            " \n",
            "x\n",
            "r2_score:  -8.319968125980459e-05\n",
            "rmse:  2.2934533771590435\n",
            "rrmse:  981.1891731292488\n",
            " \n",
            "y\n",
            "r2_score:  -0.005820472192559434\n",
            "rmse:  2.4491409064952196\n",
            "rrmse:  219.73812565202462\n",
            " \n",
            "z\n",
            "r2_score:  -8.513147374174965\n",
            "rmse:  4.266683596209009\n",
            "rrmse:  8.055000338958875\n",
            " \n"
          ],
          "name": "stdout"
        }
      ]
    },
    {
      "cell_type": "code",
      "metadata": {
        "id": "PRoI88xPKkBT"
      },
      "source": [
        ""
      ],
      "execution_count": null,
      "outputs": []
    }
  ]
}