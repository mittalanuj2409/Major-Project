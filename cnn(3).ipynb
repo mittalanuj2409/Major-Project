{
  "nbformat": 4,
  "nbformat_minor": 0,
  "metadata": {
    "colab": {
      "name": "cnn(3).ipynb",
      "provenance": [],
      "collapsed_sections": [],
      "include_colab_link": true
    },
    "kernelspec": {
      "display_name": "Python 3",
      "name": "python3"
    },
    "language_info": {
      "name": "python"
    }
  },
  "cells": [
    {
      "cell_type": "markdown",
      "metadata": {
        "id": "view-in-github",
        "colab_type": "text"
      },
      "source": [
        "<a href=\"https://colab.research.google.com/github/mittalanuj2409/Major-Project/blob/main/cnn(3).ipynb\" target=\"_parent\"><img src=\"https://colab.research.google.com/assets/colab-badge.svg\" alt=\"Open In Colab\"/></a>"
      ]
    },
    {
      "cell_type": "code",
      "metadata": {
        "id": "_23Pm9_15LGR"
      },
      "source": [
        "import numpy as np \n",
        "import pandas as pd \n",
        "import os\n",
        "import matplotlib.pyplot as plt\n",
        "import cv2\n",
        "import matplotlib.patches as patches\n",
        "import tensorflow as tf\n",
        "from keras.layers import Flatten, Dense, Conv2D, MaxPooling2D, Dropout\n",
        "from keras.models import Sequential"
      ],
      "execution_count": 1,
      "outputs": []
    },
    {
      "cell_type": "code",
      "metadata": {
        "colab": {
          "base_uri": "https://localhost:8080/",
          "height": 0
        },
        "id": "FJ-o7jGXsEWC",
        "outputId": "b1ea9bf7-58a3-4709-f5f9-be10a36354ec"
      },
      "source": [
        "from google.colab import drive\n",
        "drive.mount('/content/drive')"
      ],
      "execution_count": 2,
      "outputs": [
        {
          "output_type": "stream",
          "text": [
            "Mounted at /content/drive\n"
          ],
          "name": "stdout"
        }
      ]
    },
    {
      "cell_type": "code",
      "metadata": {
        "id": "RSQUzK3Y5tVX"
      },
      "source": [
        "images = \"./drive/MyDrive/Major Project/Final\"\n",
        "y = pd.read_csv(\"./drive/MyDrive/Major Project/Data3D.csv\")"
      ],
      "execution_count": 3,
      "outputs": []
    },
    {
      "cell_type": "code",
      "metadata": {
        "id": "Aysc3Qat7dyI"
      },
      "source": [
        "a = os.listdir(images)\n",
        "a.sort()"
      ],
      "execution_count": 4,
      "outputs": []
    },
    {
      "cell_type": "code",
      "metadata": {
        "id": "ZF8Jy3hNPAth"
      },
      "source": [
        "img_size = 80"
      ],
      "execution_count": 5,
      "outputs": []
    },
    {
      "cell_type": "code",
      "metadata": {
        "id": "MCYR52wqKCHL"
      },
      "source": [
        "path = images\n",
        "data1 = []\n",
        "data2 = []\n",
        "for img in a[:3048]:\n",
        "    pic = cv2.imread(os.path.join(path,img))\n",
        "    pic2 = cv2.cvtColor(pic,cv2.COLOR_BGR2RGB)\n",
        "    pic1 = cv2.cvtColor(pic,cv2.COLOR_BGR2GRAY)\n",
        "    # pic1 = cv2.imread(os.path.join(path,img),cv2.IMREAD_GRAYSCALE)\n",
        "    pic1 = cv2.resize(pic1,(img_size,img_size))\n",
        "    pic2 = cv2.resize(pic2,(img_size,img_size))\n",
        "    data1.append([pic1])\n",
        "    data2.append([pic2])"
      ],
      "execution_count": 6,
      "outputs": []
    },
    {
      "cell_type": "code",
      "metadata": {
        "id": "AKBXteKqp7vT",
        "colab": {
          "base_uri": "https://localhost:8080/",
          "height": 0
        },
        "outputId": "9b778c71-bde2-45ff-e85c-5e7906a94bc8"
      },
      "source": [
        "np.array(data1).shape"
      ],
      "execution_count": 7,
      "outputs": [
        {
          "output_type": "execute_result",
          "data": {
            "text/plain": [
              "(3048, 1, 80, 80)"
            ]
          },
          "metadata": {
            "tags": []
          },
          "execution_count": 7
        }
      ]
    },
    {
      "cell_type": "code",
      "metadata": {
        "id": "_Bq3AI3CO19O",
        "colab": {
          "base_uri": "https://localhost:8080/",
          "height": 0
        },
        "outputId": "829b9cba-8cc6-4cc4-9d16-c923c4597571"
      },
      "source": [
        "datagray = np.array(data1)\n",
        "datagray = np.squeeze(datagray)\n",
        "datagray.shape"
      ],
      "execution_count": 8,
      "outputs": [
        {
          "output_type": "execute_result",
          "data": {
            "text/plain": [
              "(3048, 80, 80)"
            ]
          },
          "metadata": {
            "tags": []
          },
          "execution_count": 8
        }
      ]
    },
    {
      "cell_type": "code",
      "metadata": {
        "id": "Kz2j4resojOx",
        "colab": {
          "base_uri": "https://localhost:8080/",
          "height": 0
        },
        "outputId": "cc95a748-6dac-43ea-8bcb-53b5b9f19d0d"
      },
      "source": [
        "datargb = np.array(data2)\n",
        "datargb = np.squeeze(datargb)\n",
        "datargb.shape"
      ],
      "execution_count": 9,
      "outputs": [
        {
          "output_type": "execute_result",
          "data": {
            "text/plain": [
              "(3048, 80, 80, 3)"
            ]
          },
          "metadata": {
            "tags": []
          },
          "execution_count": 9
        }
      ]
    },
    {
      "cell_type": "code",
      "metadata": {
        "id": "5jBZoc7JjLNF",
        "colab": {
          "base_uri": "https://localhost:8080/",
          "height": 285
        },
        "outputId": "54dbd1a8-a253-4284-e3d7-6f584c9cf11c"
      },
      "source": [
        "plt.imshow(datargb[5].reshape(img_size, img_size,3))"
      ],
      "execution_count": 10,
      "outputs": [
        {
          "output_type": "execute_result",
          "data": {
            "text/plain": [
              "<matplotlib.image.AxesImage at 0x7f878bbb8690>"
            ]
          },
          "metadata": {
            "tags": []
          },
          "execution_count": 10
        },
        {
          "output_type": "display_data",
          "data": {
            "image/png": "[encoded data removed]",
            "text/plain": [
              "<Figure size 432x288 with 1 Axes>"
            ]
          },
          "metadata": {
            "tags": [],
            "needs_background": "light"
          }
        }
      ]
    },
    {
      "cell_type": "code",
      "metadata": {
        "id": "hf0PH8NqKTXf",
        "colab": {
          "base_uri": "https://localhost:8080/",
          "height": 285
        },
        "outputId": "c399c26b-b2d3-433b-f4fb-2ea5e2be9d10"
      },
      "source": [
        "plt.imshow(datagray[5], cmap='gray')"
      ],
      "execution_count": 11,
      "outputs": [
        {
          "output_type": "execute_result",
          "data": {
            "text/plain": [
              "<matplotlib.image.AxesImage at 0x7f874f834d10>"
            ]
          },
          "metadata": {
            "tags": []
          },
          "execution_count": 11
        },
        {
          "output_type": "display_data",
          "data": {
            "image/png": "[encoded data removed]",
            "text/plain": [
              "<Figure size 432x288 with 1 Axes>"
            ]
          },
          "metadata": {
            "tags": [],
            "needs_background": "light"
          }
        }
      ]
    },
    {
      "cell_type": "code",
      "metadata": {
        "id": "x26GJN-VOfFu"
      },
      "source": [
        "datagray = datagray.reshape(-1, img_size, img_size, 1)\n",
        "datargb = datargb.reshape(-1, img_size, img_size, 3)"
      ],
      "execution_count": 12,
      "outputs": []
    },
    {
      "cell_type": "code",
      "metadata": {
        "id": "5197BAG8bN1U"
      },
      "source": [
        "y.drop('label', inplace=True, axis=1)"
      ],
      "execution_count": 13,
      "outputs": []
    },
    {
      "cell_type": "code",
      "metadata": {
        "colab": {
          "base_uri": "https://localhost:8080/",
          "height": 0
        },
        "id": "ZnDlvRFPQMzv",
        "outputId": "4bbdca39-a61a-4e8b-908b-d1b3d3854a81"
      },
      "source": [
        "datagray.shape, datargb.shape, y.shape"
      ],
      "execution_count": 14,
      "outputs": [
        {
          "output_type": "execute_result",
          "data": {
            "text/plain": [
              "((3048, 80, 80, 1), (3048, 80, 80, 3), (3048, 4))"
            ]
          },
          "metadata": {
            "tags": []
          },
          "execution_count": 14
        }
      ]
    },
    {
      "cell_type": "code",
      "metadata": {
        "id": "dOFbYv60QRsF"
      },
      "source": [
        "from sklearn.model_selection import train_test_split\n",
        "train_Xgray,test_Xgray,train_ygray,test_ygray = train_test_split(datagray,y, test_size=0.2, random_state=13)\n",
        "train_Xrgb,test_Xrgb,train_yrgb,test_yrgb = train_test_split(datargb,y, test_size=0.2, random_state=13)"
      ],
      "execution_count": 43,
      "outputs": []
    },
    {
      "cell_type": "code",
      "metadata": {
        "id": "vLD-4DGRCJp8"
      },
      "source": [
        ""
      ],
      "execution_count": null,
      "outputs": []
    },
    {
      "cell_type": "code",
      "metadata": {
        "id": "pyH9ovkRaiRR"
      },
      "source": [
        "from keras.layers import Dense, Conv2D, Flatten"
      ],
      "execution_count": 44,
      "outputs": []
    },
    {
      "cell_type": "code",
      "metadata": {
        "colab": {
          "base_uri": "https://localhost:8080/"
        },
        "id": "rtGkFutUam4U",
        "outputId": "a0effa84-f21d-4a36-dd56-666a6f4183f5"
      },
      "source": [
        "# For grayscale\n",
        "\n",
        "model1 = Sequential()\n",
        "model1.add(Conv2D(16, (3,3), activation=\"relu\", input_shape=(img_size,img_size, 1), kernel_initializer='he_uniform'))\n",
        "model1.add(Flatten())\n",
        "\n",
        "model1.add(Dense(16, activation=\"relu\"))\n",
        "model1.add(Dense(16, activation=\"relu\"))\n",
        "model1.add(Dense(32, activation=\"relu\"))\n",
        "model1.add(Dense(4),)\n",
        "model1.compile(loss=\"mse\", optimizer=\"adam\", metrics=[tf.keras.metrics.RootMeanSquaredError()])\n",
        "model1.summary()\n",
        "\n",
        "\n",
        "##33333333333333333333333333333\n",
        "#model1 = Sequential()\n",
        "#model1.add(Conv2D(32, 3, activation=\"relu\", input_shape=(img_size,img_size, 1), kernel_initializer='he_uniform'))\n",
        "#model1.add(Flatten())\n",
        "#model1.add(Dense(16, activation=\"relu\"))\n",
        "#model1.add(Dense(4))\n",
        "#model1.compile(loss=\"mse\", optimizer=\"adam\", metrics=[tf.keras.metrics.RootMeanSquaredError()])\n",
        "#model1.summary()"
      ],
      "execution_count": 58,
      "outputs": [
        {
          "output_type": "stream",
          "text": [
            "Model: \"sequential_10\"\n",
            "_________________________________________________________________\n",
            "Layer (type)                 Output Shape              Param #   \n",
            "=================================================================\n",
            "conv2d_10 (Conv2D)           (None, 78, 78, 16)        160       \n",
            "_________________________________________________________________\n",
            "flatten_10 (Flatten)         (None, 97344)             0         \n",
            "_________________________________________________________________\n",
            "dense_40 (Dense)             (None, 16)                1557520   \n",
            "_________________________________________________________________\n",
            "dense_41 (Dense)             (None, 16)                272       \n",
            "_________________________________________________________________\n",
            "dense_42 (Dense)             (None, 32)                544       \n",
            "_________________________________________________________________\n",
            "dense_43 (Dense)             (None, 4)                 132       \n",
            "=================================================================\n",
            "Total params: 1,558,628\n",
            "Trainable params: 1,558,628\n",
            "Non-trainable params: 0\n",
            "_________________________________________________________________\n"
          ],
          "name": "stdout"
        }
      ]
    },
    {
      "cell_type": "code",
      "metadata": {
        "colab": {
          "base_uri": "https://localhost:8080/"
        },
        "id": "ujSSYgUmaunQ",
        "outputId": "93d63d22-e189-4f9c-d2e4-b2e60798c99a"
      },
      "source": [
        "# For rgb\n",
        "model2 = Sequential()\n",
        "model2.add(Conv2D(16, (3,3), activation=\"relu\", input_shape=(img_size,img_size, 3), kernel_initializer='he_uniform'))\n",
        "\n",
        "model2.add(Flatten())\n",
        "\n",
        "model2.add(Dense(16, activation=\"relu\"))\n",
        "model2.add(Dense(16, activation=\"relu\"))\n",
        "model2.add(Dense(32, activation=\"relu\"))\n",
        "model2.add(Dense(4),)\n",
        "model2.compile(loss=\"mse\", optimizer=\"adam\", metrics=[tf.keras.metrics.RootMeanSquaredError()])\n",
        "model2.summary()\n",
        "\n",
        "\n",
        "#model2 = Sequential()\n",
        "#model2.add(Conv2D(32, 3, activation=\"relu\", input_shape=(img_size,img_size, 3), kernel_initializer='he_uniform'))\n",
        "#model2.add(Flatten())\n",
        "#model2.add(Dense(16, activation=\"relu\"))\n",
        "#model2.add(Dense(4))\n",
        "#model2.compile(loss=\"mse\", optimizer=\"adam\", metrics=[tf.keras.metrics.RootMeanSquaredError()])\n",
        "#model2.summary()"
      ],
      "execution_count": 59,
      "outputs": [
        {
          "output_type": "stream",
          "text": [
            "Model: \"sequential_11\"\n",
            "_________________________________________________________________\n",
            "Layer (type)                 Output Shape              Param #   \n",
            "=================================================================\n",
            "conv2d_11 (Conv2D)           (None, 78, 78, 16)        448       \n",
            "_________________________________________________________________\n",
            "flatten_11 (Flatten)         (None, 97344)             0         \n",
            "_________________________________________________________________\n",
            "dense_44 (Dense)             (None, 16)                1557520   \n",
            "_________________________________________________________________\n",
            "dense_45 (Dense)             (None, 16)                272       \n",
            "_________________________________________________________________\n",
            "dense_46 (Dense)             (None, 32)                544       \n",
            "_________________________________________________________________\n",
            "dense_47 (Dense)             (None, 4)                 132       \n",
            "=================================================================\n",
            "Total params: 1,558,916\n",
            "Trainable params: 1,558,916\n",
            "Non-trainable params: 0\n",
            "_________________________________________________________________\n"
          ],
          "name": "stdout"
        }
      ]
    },
    {
      "cell_type": "code",
      "metadata": {
        "colab": {
          "base_uri": "https://localhost:8080/"
        },
        "id": "1zFnUU3oayvR",
        "outputId": "178af9b8-f14a-4586-c8c8-01b1558341f5"
      },
      "source": [
        "model1.fit(train_Xgray, train_ygray, batch_size=20,epochs=50, verbose=0)"
      ],
      "execution_count": 60,
      "outputs": [
        {
          "output_type": "execute_result",
          "data": {
            "text/plain": [
              "<tensorflow.python.keras.callbacks.History at 0x7f873b238a10>"
            ]
          },
          "metadata": {
            "tags": []
          },
          "execution_count": 60
        }
      ]
    },
    {
      "cell_type": "code",
      "metadata": {
        "id": "7l4K4h5FF_nQ",
        "colab": {
          "base_uri": "https://localhost:8080/"
        },
        "outputId": "628e053d-65cd-4121-cd07-f66afade6ecc"
      },
      "source": [
        "model2.fit(train_Xrgb, train_yrgb, batch_size=20,epochs=50, verbose=0)"
      ],
      "execution_count": 61,
      "outputs": [
        {
          "output_type": "execute_result",
          "data": {
            "text/plain": [
              "<tensorflow.python.keras.callbacks.History at 0x7f873b1535d0>"
            ]
          },
          "metadata": {
            "tags": []
          },
          "execution_count": 61
        }
      ]
    },
    {
      "cell_type": "code",
      "metadata": {
        "id": "JIacPCmubAKc"
      },
      "source": [
        "ypred1 = pd.DataFrame(model1.predict(test_Xgray), columns = ['diameter', 'x', 'y', 'z'])\n",
        "ypred2 = pd.DataFrame(model2.predict(test_Xrgb), columns = ['diameter', 'x', 'y', 'z'])"
      ],
      "execution_count": 62,
      "outputs": []
    },
    {
      "cell_type": "code",
      "metadata": {
        "id": "9D62NCUkcqlv"
      },
      "source": [
        "from sklearn.metrics import mean_squared_error, r2_score\n",
        "import math\n",
        "import statistics"
      ],
      "execution_count": 63,
      "outputs": []
    },
    {
      "cell_type": "code",
      "metadata": {
        "id": "66Tlade9GU9y",
        "colab": {
          "base_uri": "https://localhost:8080/"
        },
        "outputId": "3857d555-e67e-41d2-9159-415b837dd229"
      },
      "source": [
        "#for Grayscale\n",
        "print('Grayscale')\n",
        "for col in y:\n",
        "  print(col)\n",
        "  print('r2_score: ', r2_score(test_ygray[col], ypred1[col]))\n",
        "  rmse = math.sqrt(mean_squared_error(test_ygray[col], ypred1[col]))\n",
        "  print('rmse: ', rmse)\n",
        "  print('rrmse: ', rmse/np.mean(ypred1[col]))\n",
        "  print(' ')"
      ],
      "execution_count": 64,
      "outputs": [
        {
          "output_type": "stream",
          "text": [
            "Grayscale\n",
            "diameter\n",
            "r2_score:  -0.0010065763686308848\n",
            "rmse:  0.7861613061379363\n",
            "rrmse:  0.39301117365468036\n",
            " \n",
            "x\n",
            "r2_score:  -9.113660425441594e-05\n",
            "rmse:  2.293462477865233\n",
            "rrmse:  692.3723657851237\n",
            " \n",
            "y\n",
            "r2_score:  -0.008054192163001739\n",
            "rmse:  2.4518589168911546\n",
            "rrmse:  55.72564242359876\n",
            " \n",
            "z\n",
            "r2_score:  -1.5037822542751655e-08\n",
            "rmse:  1.3833380699681601\n",
            "rrmse:  0.30298513028722807\n",
            " \n"
          ],
          "name": "stdout"
        }
      ]
    },
    {
      "cell_type": "code",
      "metadata": {
        "id": "A_C-b5YVcsKx",
        "colab": {
          "base_uri": "https://localhost:8080/"
        },
        "outputId": "29a5f8fe-d1b4-49da-82f5-749cb70fc113"
      },
      "source": [
        "#for rgb\n",
        "print('RGB')\n",
        "for col in y:\n",
        "  print(col)\n",
        "  print('r2_score: ', r2_score(test_yrgb[col], ypred2[col]))\n",
        "  rmse = math.sqrt(mean_squared_error(test_yrgb[col], ypred2[col]))\n",
        "  print('rmse: ', rmse)\n",
        "  print('rrmse: ', rmse/np.mean(ypred2[col]))\n",
        "  print(' ')"
      ],
      "execution_count": 65,
      "outputs": [
        {
          "output_type": "stream",
          "text": [
            "RGB\n",
            "diameter\n",
            "r2_score:  -0.00010068819230979464\n",
            "rmse:  0.7858054965723222\n",
            "rrmse:  0.39621383184616055\n",
            " \n",
            "x\n",
            "r2_score:  -0.002109016904576766\n",
            "rmse:  2.295775067436129\n",
            "rrmse:  26.467725496095216\n",
            " \n",
            "y\n",
            "r2_score:  -0.009973519323405178\n",
            "rmse:  2.454191966825821\n",
            "rrmse:  35.71397189352914\n",
            " \n",
            "z\n",
            "r2_score:  -0.0010942944561520562\n",
            "rmse:  1.3840947421999463\n",
            "rrmse:  0.3062081901320851\n",
            " \n"
          ],
          "name": "stdout"
        }
      ]
    },
    {
      "cell_type": "code",
      "metadata": {
        "colab": {
          "base_uri": "https://localhost:8080/",
          "height": 402
        },
        "id": "le-1CLa20kEq",
        "outputId": "fa929e80-dafe-4fb4-fa4e-15c5ef138b8c"
      },
      "source": [
        "ypred1"
      ],
      "execution_count": 66,
      "outputs": [
        {
          "output_type": "execute_result",
          "data": {
            "text/html": [
              "<div>\n",
              "<style scoped>\n",
              "    .dataframe tbody tr th:only-of-type {\n",
              "        vertical-align: middle;\n",
              "    }\n",
              "\n",
              "    .dataframe tbody tr th {\n",
              "        vertical-align: top;\n",
              "    }\n",
              "\n",
              "    .dataframe thead th {\n",
              "        text-align: right;\n",
              "    }\n",
              "</style>\n",
              "<table border=\"1\" class=\"dataframe\">\n",
              "  <thead>\n",
              "    <tr style=\"text-align: right;\">\n",
              "      <th></th>\n",
              "      <th>diameter</th>\n",
              "      <th>x</th>\n",
              "      <th>y</th>\n",
              "      <th>z</th>\n",
              "    </tr>\n",
              "  </thead>\n",
              "  <tbody>\n",
              "    <tr>\n",
              "      <th>0</th>\n",
              "      <td>2.00034</td>\n",
              "      <td>0.003312</td>\n",
              "      <td>0.043999</td>\n",
              "      <td>4.565732</td>\n",
              "    </tr>\n",
              "    <tr>\n",
              "      <th>1</th>\n",
              "      <td>2.00034</td>\n",
              "      <td>0.003312</td>\n",
              "      <td>0.043999</td>\n",
              "      <td>4.565732</td>\n",
              "    </tr>\n",
              "    <tr>\n",
              "      <th>2</th>\n",
              "      <td>2.00034</td>\n",
              "      <td>0.003312</td>\n",
              "      <td>0.043999</td>\n",
              "      <td>4.565732</td>\n",
              "    </tr>\n",
              "    <tr>\n",
              "      <th>3</th>\n",
              "      <td>2.00034</td>\n",
              "      <td>0.003312</td>\n",
              "      <td>0.043999</td>\n",
              "      <td>4.565732</td>\n",
              "    </tr>\n",
              "    <tr>\n",
              "      <th>4</th>\n",
              "      <td>2.00034</td>\n",
              "      <td>0.003312</td>\n",
              "      <td>0.043999</td>\n",
              "      <td>4.565732</td>\n",
              "    </tr>\n",
              "    <tr>\n",
              "      <th>...</th>\n",
              "      <td>...</td>\n",
              "      <td>...</td>\n",
              "      <td>...</td>\n",
              "      <td>...</td>\n",
              "    </tr>\n",
              "    <tr>\n",
              "      <th>605</th>\n",
              "      <td>2.00034</td>\n",
              "      <td>0.003312</td>\n",
              "      <td>0.043999</td>\n",
              "      <td>4.565732</td>\n",
              "    </tr>\n",
              "    <tr>\n",
              "      <th>606</th>\n",
              "      <td>2.00034</td>\n",
              "      <td>0.003312</td>\n",
              "      <td>0.043999</td>\n",
              "      <td>4.565732</td>\n",
              "    </tr>\n",
              "    <tr>\n",
              "      <th>607</th>\n",
              "      <td>2.00034</td>\n",
              "      <td>0.003312</td>\n",
              "      <td>0.043999</td>\n",
              "      <td>4.565732</td>\n",
              "    </tr>\n",
              "    <tr>\n",
              "      <th>608</th>\n",
              "      <td>2.00034</td>\n",
              "      <td>0.003312</td>\n",
              "      <td>0.043999</td>\n",
              "      <td>4.565732</td>\n",
              "    </tr>\n",
              "    <tr>\n",
              "      <th>609</th>\n",
              "      <td>2.00034</td>\n",
              "      <td>0.003312</td>\n",
              "      <td>0.043999</td>\n",
              "      <td>4.565732</td>\n",
              "    </tr>\n",
              "  </tbody>\n",
              "</table>\n",
              "<p>610 rows × 4 columns</p>\n",
              "</div>"
            ],
            "text/plain": [
              "     diameter         x         y         z\n",
              "0     2.00034  0.003312  0.043999  4.565732\n",
              "1     2.00034  0.003312  0.043999  4.565732\n",
              "2     2.00034  0.003312  0.043999  4.565732\n",
              "3     2.00034  0.003312  0.043999  4.565732\n",
              "4     2.00034  0.003312  0.043999  4.565732\n",
              "..        ...       ...       ...       ...\n",
              "605   2.00034  0.003312  0.043999  4.565732\n",
              "606   2.00034  0.003312  0.043999  4.565732\n",
              "607   2.00034  0.003312  0.043999  4.565732\n",
              "608   2.00034  0.003312  0.043999  4.565732\n",
              "609   2.00034  0.003312  0.043999  4.565732\n",
              "\n",
              "[610 rows x 4 columns]"
            ]
          },
          "metadata": {
            "tags": []
          },
          "execution_count": 66
        }
      ]
    },
    {
      "cell_type": "code",
      "metadata": {
        "colab": {
          "base_uri": "https://localhost:8080/",
          "height": 402
        },
        "id": "qi_2T-5_3L_r",
        "outputId": "74c894b7-927e-48b5-e608-590d9e1a0621"
      },
      "source": [
        "ypred2"
      ],
      "execution_count": 67,
      "outputs": [
        {
          "output_type": "execute_result",
          "data": {
            "text/html": [
              "<div>\n",
              "<style scoped>\n",
              "    .dataframe tbody tr th:only-of-type {\n",
              "        vertical-align: middle;\n",
              "    }\n",
              "\n",
              "    .dataframe tbody tr th {\n",
              "        vertical-align: top;\n",
              "    }\n",
              "\n",
              "    .dataframe thead th {\n",
              "        text-align: right;\n",
              "    }\n",
              "</style>\n",
              "<table border=\"1\" class=\"dataframe\">\n",
              "  <thead>\n",
              "    <tr style=\"text-align: right;\">\n",
              "      <th></th>\n",
              "      <th>diameter</th>\n",
              "      <th>x</th>\n",
              "      <th>y</th>\n",
              "      <th>z</th>\n",
              "    </tr>\n",
              "  </thead>\n",
              "  <tbody>\n",
              "    <tr>\n",
              "      <th>0</th>\n",
              "      <td>1.983294</td>\n",
              "      <td>0.086739</td>\n",
              "      <td>0.068718</td>\n",
              "      <td>4.520141</td>\n",
              "    </tr>\n",
              "    <tr>\n",
              "      <th>1</th>\n",
              "      <td>1.983294</td>\n",
              "      <td>0.086739</td>\n",
              "      <td>0.068718</td>\n",
              "      <td>4.520141</td>\n",
              "    </tr>\n",
              "    <tr>\n",
              "      <th>2</th>\n",
              "      <td>1.983294</td>\n",
              "      <td>0.086739</td>\n",
              "      <td>0.068718</td>\n",
              "      <td>4.520141</td>\n",
              "    </tr>\n",
              "    <tr>\n",
              "      <th>3</th>\n",
              "      <td>1.983294</td>\n",
              "      <td>0.086739</td>\n",
              "      <td>0.068718</td>\n",
              "      <td>4.520141</td>\n",
              "    </tr>\n",
              "    <tr>\n",
              "      <th>4</th>\n",
              "      <td>1.983294</td>\n",
              "      <td>0.086739</td>\n",
              "      <td>0.068718</td>\n",
              "      <td>4.520141</td>\n",
              "    </tr>\n",
              "    <tr>\n",
              "      <th>...</th>\n",
              "      <td>...</td>\n",
              "      <td>...</td>\n",
              "      <td>...</td>\n",
              "      <td>...</td>\n",
              "    </tr>\n",
              "    <tr>\n",
              "      <th>605</th>\n",
              "      <td>1.983294</td>\n",
              "      <td>0.086739</td>\n",
              "      <td>0.068718</td>\n",
              "      <td>4.520141</td>\n",
              "    </tr>\n",
              "    <tr>\n",
              "      <th>606</th>\n",
              "      <td>1.983294</td>\n",
              "      <td>0.086739</td>\n",
              "      <td>0.068718</td>\n",
              "      <td>4.520141</td>\n",
              "    </tr>\n",
              "    <tr>\n",
              "      <th>607</th>\n",
              "      <td>1.983294</td>\n",
              "      <td>0.086739</td>\n",
              "      <td>0.068718</td>\n",
              "      <td>4.520141</td>\n",
              "    </tr>\n",
              "    <tr>\n",
              "      <th>608</th>\n",
              "      <td>1.983294</td>\n",
              "      <td>0.086739</td>\n",
              "      <td>0.068718</td>\n",
              "      <td>4.520141</td>\n",
              "    </tr>\n",
              "    <tr>\n",
              "      <th>609</th>\n",
              "      <td>1.983294</td>\n",
              "      <td>0.086739</td>\n",
              "      <td>0.068718</td>\n",
              "      <td>4.520141</td>\n",
              "    </tr>\n",
              "  </tbody>\n",
              "</table>\n",
              "<p>610 rows × 4 columns</p>\n",
              "</div>"
            ],
            "text/plain": [
              "     diameter         x         y         z\n",
              "0    1.983294  0.086739  0.068718  4.520141\n",
              "1    1.983294  0.086739  0.068718  4.520141\n",
              "2    1.983294  0.086739  0.068718  4.520141\n",
              "3    1.983294  0.086739  0.068718  4.520141\n",
              "4    1.983294  0.086739  0.068718  4.520141\n",
              "..        ...       ...       ...       ...\n",
              "605  1.983294  0.086739  0.068718  4.520141\n",
              "606  1.983294  0.086739  0.068718  4.520141\n",
              "607  1.983294  0.086739  0.068718  4.520141\n",
              "608  1.983294  0.086739  0.068718  4.520141\n",
              "609  1.983294  0.086739  0.068718  4.520141\n",
              "\n",
              "[610 rows x 4 columns]"
            ]
          },
          "metadata": {
            "tags": []
          },
          "execution_count": 67
        }
      ]
    },
    {
      "cell_type": "code",
      "metadata": {
        "id": "6Kj3oacN3OgS"
      },
      "source": [
        "from sklearn import datasets\n",
        "from sklearn import model_selection\n",
        "from sklearn import linear_model\n",
        "from sklearn import metrics"
      ],
      "execution_count": 68,
      "outputs": []
    },
    {
      "cell_type": "code",
      "metadata": {
        "colab": {
          "base_uri": "https://localhost:8080/"
        },
        "id": "zdQ91XabI5SY",
        "outputId": "847fb12d-48c0-4646-a5a3-1e0028687748"
      },
      "source": [
        "!pip install autokeras"
      ],
      "execution_count": 71,
      "outputs": [
        {
          "output_type": "stream",
          "text": [
            "Collecting autokeras\n",
            "\u001b[?25l  Downloading https://files.pythonhosted.org/packages/09/12/cf698586ccc8245f08d1843dcafb65b064a2e9e2923b889dc58e1019f099/autokeras-1.0.12-py3-none-any.whl (164kB)\n",
            "\u001b[K     |████████████████████████████████| 174kB 7.7MB/s \n",
            "\u001b[?25hCollecting keras-tuner>=1.0.2\n",
            "\u001b[?25l  Downloading https://files.pythonhosted.org/packages/20/ec/1ef246787174b1e2bb591c95f29d3c1310070cad877824f907faba3dade9/keras-tuner-1.0.2.tar.gz (62kB)\n",
            "\u001b[K     |████████████████████████████████| 71kB 6.4MB/s \n",
            "\u001b[?25hRequirement already satisfied: scikit-learn in /usr/local/lib/python3.7/dist-packages (from autokeras) (0.22.2.post1)\n",
            "Requirement already satisfied: packaging in /usr/local/lib/python3.7/dist-packages (from autokeras) (20.9)\n",
            "Requirement already satisfied: tensorflow>=2.3.0 in /usr/local/lib/python3.7/dist-packages (from autokeras) (2.4.1)\n",
            "Requirement already satisfied: pandas in /usr/local/lib/python3.7/dist-packages (from autokeras) (1.1.5)\n",
            "Requirement already satisfied: future in /usr/local/lib/python3.7/dist-packages (from keras-tuner>=1.0.2->autokeras) (0.16.0)\n",
            "Requirement already satisfied: numpy in /usr/local/lib/python3.7/dist-packages (from keras-tuner>=1.0.2->autokeras) (1.19.5)\n",
            "Requirement already satisfied: tabulate in /usr/local/lib/python3.7/dist-packages (from keras-tuner>=1.0.2->autokeras) (0.8.9)\n",
            "Collecting terminaltables\n",
            "  Downloading https://files.pythonhosted.org/packages/9b/c4/4a21174f32f8a7e1104798c445dacdc1d4df86f2f26722767034e4de4bff/terminaltables-3.1.0.tar.gz\n",
            "Collecting colorama\n",
            "  Downloading https://files.pythonhosted.org/packages/44/98/5b86278fbbf250d239ae0ecb724f8572af1c91f4a11edf4d36a206189440/colorama-0.4.4-py2.py3-none-any.whl\n",
            "Requirement already satisfied: tqdm in /usr/local/lib/python3.7/dist-packages (from keras-tuner>=1.0.2->autokeras) (4.41.1)\n",
            "Requirement already satisfied: requests in /usr/local/lib/python3.7/dist-packages (from keras-tuner>=1.0.2->autokeras) (2.23.0)\n",
            "Requirement already satisfied: scipy in /usr/local/lib/python3.7/dist-packages (from keras-tuner>=1.0.2->autokeras) (1.4.1)\n",
            "Requirement already satisfied: joblib>=0.11 in /usr/local/lib/python3.7/dist-packages (from scikit-learn->autokeras) (1.0.1)\n",
            "Requirement already satisfied: pyparsing>=2.0.2 in /usr/local/lib/python3.7/dist-packages (from packaging->autokeras) (2.4.7)\n",
            "Requirement already satisfied: tensorboard~=2.4 in /usr/local/lib/python3.7/dist-packages (from tensorflow>=2.3.0->autokeras) (2.4.1)\n",
            "Requirement already satisfied: keras-preprocessing~=1.1.2 in /usr/local/lib/python3.7/dist-packages (from tensorflow>=2.3.0->autokeras) (1.1.2)\n",
            "Requirement already satisfied: h5py~=2.10.0 in /usr/local/lib/python3.7/dist-packages (from tensorflow>=2.3.0->autokeras) (2.10.0)\n",
            "Requirement already satisfied: termcolor~=1.1.0 in /usr/local/lib/python3.7/dist-packages (from tensorflow>=2.3.0->autokeras) (1.1.0)\n",
            "Requirement already satisfied: typing-extensions~=3.7.4 in /usr/local/lib/python3.7/dist-packages (from tensorflow>=2.3.0->autokeras) (3.7.4.3)\n",
            "Requirement already satisfied: gast==0.3.3 in /usr/local/lib/python3.7/dist-packages (from tensorflow>=2.3.0->autokeras) (0.3.3)\n",
            "Requirement already satisfied: tensorflow-estimator<2.5.0,>=2.4.0 in /usr/local/lib/python3.7/dist-packages (from tensorflow>=2.3.0->autokeras) (2.4.0)\n",
            "Requirement already satisfied: astunparse~=1.6.3 in /usr/local/lib/python3.7/dist-packages (from tensorflow>=2.3.0->autokeras) (1.6.3)\n",
            "Requirement already satisfied: wheel~=0.35 in /usr/local/lib/python3.7/dist-packages (from tensorflow>=2.3.0->autokeras) (0.36.2)\n",
            "Requirement already satisfied: absl-py~=0.10 in /usr/local/lib/python3.7/dist-packages (from tensorflow>=2.3.0->autokeras) (0.12.0)\n",
            "Requirement already satisfied: flatbuffers~=1.12.0 in /usr/local/lib/python3.7/dist-packages (from tensorflow>=2.3.0->autokeras) (1.12)\n",
            "Requirement already satisfied: opt-einsum~=3.3.0 in /usr/local/lib/python3.7/dist-packages (from tensorflow>=2.3.0->autokeras) (3.3.0)\n",
            "Requirement already satisfied: protobuf>=3.9.2 in /usr/local/lib/python3.7/dist-packages (from tensorflow>=2.3.0->autokeras) (3.12.4)\n",
            "Requirement already satisfied: grpcio~=1.32.0 in /usr/local/lib/python3.7/dist-packages (from tensorflow>=2.3.0->autokeras) (1.32.0)\n",
            "Requirement already satisfied: six~=1.15.0 in /usr/local/lib/python3.7/dist-packages (from tensorflow>=2.3.0->autokeras) (1.15.0)\n",
            "Requirement already satisfied: google-pasta~=0.2 in /usr/local/lib/python3.7/dist-packages (from tensorflow>=2.3.0->autokeras) (0.2.0)\n",
            "Requirement already satisfied: wrapt~=1.12.1 in /usr/local/lib/python3.7/dist-packages (from tensorflow>=2.3.0->autokeras) (1.12.1)\n",
            "Requirement already satisfied: pytz>=2017.2 in /usr/local/lib/python3.7/dist-packages (from pandas->autokeras) (2018.9)\n",
            "Requirement already satisfied: python-dateutil>=2.7.3 in /usr/local/lib/python3.7/dist-packages (from pandas->autokeras) (2.8.1)\n",
            "Requirement already satisfied: chardet<4,>=3.0.2 in /usr/local/lib/python3.7/dist-packages (from requests->keras-tuner>=1.0.2->autokeras) (3.0.4)\n",
            "Requirement already satisfied: idna<3,>=2.5 in /usr/local/lib/python3.7/dist-packages (from requests->keras-tuner>=1.0.2->autokeras) (2.10)\n",
            "Requirement already satisfied: urllib3!=1.25.0,!=1.25.1,<1.26,>=1.21.1 in /usr/local/lib/python3.7/dist-packages (from requests->keras-tuner>=1.0.2->autokeras) (1.24.3)\n",
            "Requirement already satisfied: certifi>=2017.4.17 in /usr/local/lib/python3.7/dist-packages (from requests->keras-tuner>=1.0.2->autokeras) (2020.12.5)\n",
            "Requirement already satisfied: google-auth-oauthlib<0.5,>=0.4.1 in /usr/local/lib/python3.7/dist-packages (from tensorboard~=2.4->tensorflow>=2.3.0->autokeras) (0.4.3)\n",
            "Requirement already satisfied: google-auth<2,>=1.6.3 in /usr/local/lib/python3.7/dist-packages (from tensorboard~=2.4->tensorflow>=2.3.0->autokeras) (1.28.0)\n",
            "Requirement already satisfied: werkzeug>=0.11.15 in /usr/local/lib/python3.7/dist-packages (from tensorboard~=2.4->tensorflow>=2.3.0->autokeras) (1.0.1)\n",
            "Requirement already satisfied: markdown>=2.6.8 in /usr/local/lib/python3.7/dist-packages (from tensorboard~=2.4->tensorflow>=2.3.0->autokeras) (3.3.4)\n",
            "Requirement already satisfied: setuptools>=41.0.0 in /usr/local/lib/python3.7/dist-packages (from tensorboard~=2.4->tensorflow>=2.3.0->autokeras) (54.2.0)\n",
            "Requirement already satisfied: tensorboard-plugin-wit>=1.6.0 in /usr/local/lib/python3.7/dist-packages (from tensorboard~=2.4->tensorflow>=2.3.0->autokeras) (1.8.0)\n",
            "Requirement already satisfied: requests-oauthlib>=0.7.0 in /usr/local/lib/python3.7/dist-packages (from google-auth-oauthlib<0.5,>=0.4.1->tensorboard~=2.4->tensorflow>=2.3.0->autokeras) (1.3.0)\n",
            "Requirement already satisfied: rsa<5,>=3.1.4; python_version >= \"3.6\" in /usr/local/lib/python3.7/dist-packages (from google-auth<2,>=1.6.3->tensorboard~=2.4->tensorflow>=2.3.0->autokeras) (4.7.2)\n",
            "Requirement already satisfied: pyasn1-modules>=0.2.1 in /usr/local/lib/python3.7/dist-packages (from google-auth<2,>=1.6.3->tensorboard~=2.4->tensorflow>=2.3.0->autokeras) (0.2.8)\n",
            "Requirement already satisfied: cachetools<5.0,>=2.0.0 in /usr/local/lib/python3.7/dist-packages (from google-auth<2,>=1.6.3->tensorboard~=2.4->tensorflow>=2.3.0->autokeras) (4.2.1)\n",
            "Requirement already satisfied: importlib-metadata; python_version < \"3.8\" in /usr/local/lib/python3.7/dist-packages (from markdown>=2.6.8->tensorboard~=2.4->tensorflow>=2.3.0->autokeras) (3.8.1)\n",
            "Requirement already satisfied: oauthlib>=3.0.0 in /usr/local/lib/python3.7/dist-packages (from requests-oauthlib>=0.7.0->google-auth-oauthlib<0.5,>=0.4.1->tensorboard~=2.4->tensorflow>=2.3.0->autokeras) (3.1.0)\n",
            "Requirement already satisfied: pyasn1>=0.1.3 in /usr/local/lib/python3.7/dist-packages (from rsa<5,>=3.1.4; python_version >= \"3.6\"->google-auth<2,>=1.6.3->tensorboard~=2.4->tensorflow>=2.3.0->autokeras) (0.4.8)\n",
            "Requirement already satisfied: zipp>=0.5 in /usr/local/lib/python3.7/dist-packages (from importlib-metadata; python_version < \"3.8\"->markdown>=2.6.8->tensorboard~=2.4->tensorflow>=2.3.0->autokeras) (3.4.1)\n",
            "Building wheels for collected packages: keras-tuner, terminaltables\n",
            "  Building wheel for keras-tuner (setup.py) ... \u001b[?25l\u001b[?25hdone\n",
            "  Created wheel for keras-tuner: filename=keras_tuner-1.0.2-cp37-none-any.whl size=78938 sha256=78d48f376fb072c63cc27f4c9ad67b98af8f616d29dfa46b53ce5b086a2b5b99\n",
            "  Stored in directory: /root/.cache/pip/wheels/bb/a1/8a/7c3de0efb3707a1701b36ebbfdbc4e67aedf6d4943a1f463d6\n",
            "  Building wheel for terminaltables (setup.py) ... \u001b[?25l\u001b[?25hdone\n",
            "  Created wheel for terminaltables: filename=terminaltables-3.1.0-cp37-none-any.whl size=15356 sha256=9c0dd5ecbdce0694c4d6cc0fd63867e6696dbbc3de073222c9e80055d54b5330\n",
            "  Stored in directory: /root/.cache/pip/wheels/30/6b/50/6c75775b681fb36cdfac7f19799888ef9d8813aff9e379663e\n",
            "Successfully built keras-tuner terminaltables\n",
            "Installing collected packages: terminaltables, colorama, keras-tuner, autokeras\n",
            "Successfully installed autokeras-1.0.12 colorama-0.4.4 keras-tuner-1.0.2 terminaltables-3.1.0\n"
          ],
          "name": "stdout"
        }
      ]
    },
    {
      "cell_type": "code",
      "metadata": {
        "id": "o_vjImGaCgHo"
      },
      "source": [
        "import autokeras as ak"
      ],
      "execution_count": 72,
      "outputs": []
    },
    {
      "cell_type": "code",
      "metadata": {
        "colab": {
          "base_uri": "https://localhost:8080/"
        },
        "id": "xsEjDgEQIw-H",
        "outputId": "ff307d4b-b9b6-4764-84e2-456972f06966"
      },
      "source": [
        "# Initialize the image regressor.\n",
        "reg = ak.ImageRegressor(overwrite=True, max_trials=1)\n",
        "# Feed the image regressor with training data.\n",
        "reg.fit(train_Xgray, train_ygray, epochs=2)\n",
        "\n",
        "\n",
        "# Predict with the best model.\n",
        "predicted_y = reg.predict(test_Xgray)\n",
        "print(predicted_y)\n",
        "\n",
        "\n",
        "# Evaluate the best model with testing data.\n",
        "print(reg.evaluate(test_Xgray, test_ygray))"
      ],
      "execution_count": 73,
      "outputs": [
        {
          "output_type": "stream",
          "text": [
            "Trial 1 Complete [00h 19m 16s]\n",
            "val_loss: 511.97662353515625\n",
            "\n",
            "Best val_loss So Far: 511.97662353515625\n",
            "Total elapsed time: 00h 19m 16s\n",
            "INFO:tensorflow:Oracle triggered exit\n",
            "Epoch 1/2\n",
            "77/77 [==============================] - 689s 9s/step - loss: 13.9121 - mean_squared_error: 13.9121\n",
            "Epoch 2/2\n",
            "77/77 [==============================] - 675s 9s/step - loss: 3.8604 - mean_squared_error: 3.8604\n",
            "INFO:tensorflow:Assets written to: ./image_regressor/best_model/assets\n",
            "[[-10.704037   -11.075589    22.391394    -8.949999  ]\n",
            " [  0.99769455   1.613854     2.6492608    3.3390458 ]\n",
            " [  1.2908785    1.4857433    1.8818699    4.009331  ]\n",
            " ...\n",
            " [  1.6115974    1.2040229    0.4127225    3.749662  ]\n",
            " [  1.1705581    0.11796001   2.093522     2.1778798 ]\n",
            " [  1.6315268    1.6231914   -0.44853488   3.7154093 ]]\n",
            "20/20 [==============================] - 23s 991ms/step - loss: 57.6408 - mean_squared_error: 57.6408\n",
            "[57.640830993652344, 57.640830993652344]\n"
          ],
          "name": "stdout"
        }
      ]
    },
    {
      "cell_type": "code",
      "metadata": {
        "colab": {
          "base_uri": "https://localhost:8080/",
          "height": 229
        },
        "id": "VvhsMayXJsJe",
        "outputId": "4cd4085d-b577-4723-f62d-e506124403d6"
      },
      "source": [
        "#for Grayscale\n",
        "ypred  = int(predicted_y)\n",
        "ypred = np.vectorize(ypred)\n",
        "print('Grayscale')\n",
        "for col in y:\n",
        "  print(col)\n",
        "  print('r2_score: ', r2_score(test_ygray[col], ypred[col]))\n",
        "  rmse = math.sqrt(mean_squared_error(test_ygray[col], ypred[col]))\n",
        "  print('rmse: ', rmse)\n",
        "  print('rrmse: ', rmse/np.mean(ypred[col]))\n",
        "  print(' ')"
      ],
      "execution_count": 76,
      "outputs": [
        {
          "output_type": "error",
          "ename": "TypeError",
          "evalue": "ignored",
          "traceback": [
            "\u001b[0;31m---------------------------------------------------------------------------\u001b[0m",
            "\u001b[0;31mTypeError\u001b[0m                                 Traceback (most recent call last)",
            "\u001b[0;32m<ipython-input-76-e4497ebf434c>\u001b[0m in \u001b[0;36m<module>\u001b[0;34m()\u001b[0m\n\u001b[1;32m      1\u001b[0m \u001b[0;31m#for Grayscale\u001b[0m\u001b[0;34m\u001b[0m\u001b[0;34m\u001b[0m\u001b[0;34m\u001b[0m\u001b[0m\n\u001b[0;32m----> 2\u001b[0;31m \u001b[0mypred\u001b[0m  \u001b[0;34m=\u001b[0m \u001b[0mint\u001b[0m\u001b[0;34m(\u001b[0m\u001b[0mpredicted_y\u001b[0m\u001b[0;34m)\u001b[0m\u001b[0;34m\u001b[0m\u001b[0;34m\u001b[0m\u001b[0m\n\u001b[0m\u001b[1;32m      3\u001b[0m \u001b[0mypred\u001b[0m \u001b[0;34m=\u001b[0m \u001b[0mnp\u001b[0m\u001b[0;34m.\u001b[0m\u001b[0mvectorize\u001b[0m\u001b[0;34m(\u001b[0m\u001b[0mypred\u001b[0m\u001b[0;34m)\u001b[0m\u001b[0;34m\u001b[0m\u001b[0;34m\u001b[0m\u001b[0m\n\u001b[1;32m      4\u001b[0m \u001b[0mprint\u001b[0m\u001b[0;34m(\u001b[0m\u001b[0;34m'Grayscale'\u001b[0m\u001b[0;34m)\u001b[0m\u001b[0;34m\u001b[0m\u001b[0;34m\u001b[0m\u001b[0m\n\u001b[1;32m      5\u001b[0m \u001b[0;32mfor\u001b[0m \u001b[0mcol\u001b[0m \u001b[0;32min\u001b[0m \u001b[0my\u001b[0m\u001b[0;34m:\u001b[0m\u001b[0;34m\u001b[0m\u001b[0;34m\u001b[0m\u001b[0m\n",
            "\u001b[0;31mTypeError\u001b[0m: only size-1 arrays can be converted to Python scalars"
          ]
        }
      ]
    },
    {
      "cell_type": "code",
      "metadata": {
        "id": "ZDwC4QjTUj0V"
      },
      "source": [
        ""
      ],
      "execution_count": 76,
      "outputs": []
    }
  ]
}